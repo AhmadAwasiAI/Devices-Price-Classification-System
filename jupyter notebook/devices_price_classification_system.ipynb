{
 "cells": [
  {
   "cell_type": "markdown",
   "id": "4d1563fe-09d9-43f1-a296-37e38ab4b700",
   "metadata": {},
   "source": [
    "### Devices Price Classification System using Python"
   ]
  },
  {
   "cell_type": "code",
   "execution_count": 1,
   "id": "51ae868c-6b63-4558-8b57-d42f53b35abd",
   "metadata": {},
   "outputs": [],
   "source": [
    "import pandas as pd\n",
    "from sklearn.preprocessing import LabelEncoder\n",
    "from sklearn.model_selection import train_test_split\n",
    "from sklearn.ensemble import RandomForestClassifier\n",
    "from sklearn.metrics import accuracy_score, confusion_matrix\n",
    "from sklearn.model_selection import cross_validate, GridSearchCV\n",
    "from sklearn.neighbors import KNeighborsClassifier\n",
    "from sklearn.linear_model import LogisticRegression\n",
    "from sklearn.tree import DecisionTreeClassifier\n",
    "from sklearn.ensemble import RandomForestClassifier\n",
    "from sklearn.svm import SVC\n",
    "from sklearn.neural_network import MLPClassifier\n",
    "import seaborn as sns\n",
    "import matplotlib.pyplot as plt\n",
    "import pickle\n",
    "from sklearn.preprocessing import StandardScaler\n",
    "from sklearn import preprocessing\n",
    "from sklearn.metrics import classification_report, accuracy_score, f1_score, confusion_matrix\n",
    "sns.set_style(\"whitegrid\")"
   ]
  },
  {
   "cell_type": "markdown",
   "id": "106be5a1-49c1-426d-b96a-50d41f1fb1a3",
   "metadata": {},
   "source": [
    "## Load the dataset"
   ]
  },
  {
   "cell_type": "code",
   "execution_count": 2,
   "id": "a14b1dc1-6a88-49dd-b724-baa50c7902ba",
   "metadata": {},
   "outputs": [
    {
     "name": "stdout",
     "output_type": "stream",
     "text": [
      "trian_shape: (2000, 21)\n",
      "test_shape (1000, 21)\n"
     ]
    }
   ],
   "source": [
    "\n",
    "# Load the dataset\n",
    "test = pd.read_csv('test.csv')\n",
    "train = pd.read_csv('train.csv')\n",
    "\n",
    "# Exploratory Data Analysis (EDA)\n",
    "# Add your insights and comments here\n",
    "\n",
    "# Data Preprocessing\n",
    "\n",
    "# Split the data into features and target\n",
    "print('trian_shape:',train.shape)\n",
    "print('test_shape',test.shape)"
   ]
  },
  {
   "cell_type": "code",
   "execution_count": 3,
   "id": "be64be89-1906-46aa-847c-ffead8d93465",
   "metadata": {},
   "outputs": [
    {
     "data": {
      "text/html": [
       "<div>\n",
       "<style scoped>\n",
       "    .dataframe tbody tr th:only-of-type {\n",
       "        vertical-align: middle;\n",
       "    }\n",
       "\n",
       "    .dataframe tbody tr th {\n",
       "        vertical-align: top;\n",
       "    }\n",
       "\n",
       "    .dataframe thead th {\n",
       "        text-align: right;\n",
       "    }\n",
       "</style>\n",
       "<table border=\"1\" class=\"dataframe\">\n",
       "  <thead>\n",
       "    <tr style=\"text-align: right;\">\n",
       "      <th></th>\n",
       "      <th>battery_power</th>\n",
       "      <th>blue</th>\n",
       "      <th>clock_speed</th>\n",
       "      <th>dual_sim</th>\n",
       "      <th>fc</th>\n",
       "      <th>four_g</th>\n",
       "      <th>int_memory</th>\n",
       "      <th>m_dep</th>\n",
       "      <th>mobile_wt</th>\n",
       "      <th>n_cores</th>\n",
       "      <th>...</th>\n",
       "      <th>px_height</th>\n",
       "      <th>px_width</th>\n",
       "      <th>ram</th>\n",
       "      <th>sc_h</th>\n",
       "      <th>sc_w</th>\n",
       "      <th>talk_time</th>\n",
       "      <th>three_g</th>\n",
       "      <th>touch_screen</th>\n",
       "      <th>wifi</th>\n",
       "      <th>price_range</th>\n",
       "    </tr>\n",
       "  </thead>\n",
       "  <tbody>\n",
       "    <tr>\n",
       "      <th>count</th>\n",
       "      <td>2000.000000</td>\n",
       "      <td>2000.0000</td>\n",
       "      <td>2000.000000</td>\n",
       "      <td>2000.000000</td>\n",
       "      <td>1995.000000</td>\n",
       "      <td>1995.000000</td>\n",
       "      <td>1995.000000</td>\n",
       "      <td>1995.000000</td>\n",
       "      <td>1996.000000</td>\n",
       "      <td>1996.000000</td>\n",
       "      <td>...</td>\n",
       "      <td>1996.000000</td>\n",
       "      <td>1998.000000</td>\n",
       "      <td>1998.000000</td>\n",
       "      <td>1999.000000</td>\n",
       "      <td>1999.000000</td>\n",
       "      <td>2000.000000</td>\n",
       "      <td>2000.000000</td>\n",
       "      <td>2000.000000</td>\n",
       "      <td>2000.000000</td>\n",
       "      <td>2000.000000</td>\n",
       "    </tr>\n",
       "    <tr>\n",
       "      <th>mean</th>\n",
       "      <td>1238.518500</td>\n",
       "      <td>0.4950</td>\n",
       "      <td>1.522250</td>\n",
       "      <td>0.509500</td>\n",
       "      <td>4.310276</td>\n",
       "      <td>0.521303</td>\n",
       "      <td>32.048120</td>\n",
       "      <td>0.502256</td>\n",
       "      <td>140.266533</td>\n",
       "      <td>4.518036</td>\n",
       "      <td>...</td>\n",
       "      <td>644.651804</td>\n",
       "      <td>1251.287788</td>\n",
       "      <td>2124.262262</td>\n",
       "      <td>12.303652</td>\n",
       "      <td>5.766383</td>\n",
       "      <td>11.011000</td>\n",
       "      <td>0.761500</td>\n",
       "      <td>0.503000</td>\n",
       "      <td>0.507000</td>\n",
       "      <td>1.500000</td>\n",
       "    </tr>\n",
       "    <tr>\n",
       "      <th>std</th>\n",
       "      <td>439.418206</td>\n",
       "      <td>0.5001</td>\n",
       "      <td>0.816004</td>\n",
       "      <td>0.500035</td>\n",
       "      <td>4.335766</td>\n",
       "      <td>0.499671</td>\n",
       "      <td>18.146476</td>\n",
       "      <td>0.288530</td>\n",
       "      <td>35.384676</td>\n",
       "      <td>2.288946</td>\n",
       "      <td>...</td>\n",
       "      <td>443.355443</td>\n",
       "      <td>432.352930</td>\n",
       "      <td>1085.273372</td>\n",
       "      <td>4.212373</td>\n",
       "      <td>4.357400</td>\n",
       "      <td>5.463955</td>\n",
       "      <td>0.426273</td>\n",
       "      <td>0.500116</td>\n",
       "      <td>0.500076</td>\n",
       "      <td>1.118314</td>\n",
       "    </tr>\n",
       "    <tr>\n",
       "      <th>min</th>\n",
       "      <td>501.000000</td>\n",
       "      <td>0.0000</td>\n",
       "      <td>0.500000</td>\n",
       "      <td>0.000000</td>\n",
       "      <td>0.000000</td>\n",
       "      <td>0.000000</td>\n",
       "      <td>2.000000</td>\n",
       "      <td>0.100000</td>\n",
       "      <td>80.000000</td>\n",
       "      <td>1.000000</td>\n",
       "      <td>...</td>\n",
       "      <td>0.000000</td>\n",
       "      <td>500.000000</td>\n",
       "      <td>256.000000</td>\n",
       "      <td>5.000000</td>\n",
       "      <td>0.000000</td>\n",
       "      <td>2.000000</td>\n",
       "      <td>0.000000</td>\n",
       "      <td>0.000000</td>\n",
       "      <td>0.000000</td>\n",
       "      <td>0.000000</td>\n",
       "    </tr>\n",
       "    <tr>\n",
       "      <th>25%</th>\n",
       "      <td>851.750000</td>\n",
       "      <td>0.0000</td>\n",
       "      <td>0.700000</td>\n",
       "      <td>0.000000</td>\n",
       "      <td>1.000000</td>\n",
       "      <td>0.000000</td>\n",
       "      <td>16.000000</td>\n",
       "      <td>0.200000</td>\n",
       "      <td>109.000000</td>\n",
       "      <td>3.000000</td>\n",
       "      <td>...</td>\n",
       "      <td>282.000000</td>\n",
       "      <td>874.250000</td>\n",
       "      <td>1206.500000</td>\n",
       "      <td>9.000000</td>\n",
       "      <td>2.000000</td>\n",
       "      <td>6.000000</td>\n",
       "      <td>1.000000</td>\n",
       "      <td>0.000000</td>\n",
       "      <td>0.000000</td>\n",
       "      <td>0.750000</td>\n",
       "    </tr>\n",
       "    <tr>\n",
       "      <th>50%</th>\n",
       "      <td>1226.000000</td>\n",
       "      <td>0.0000</td>\n",
       "      <td>1.500000</td>\n",
       "      <td>1.000000</td>\n",
       "      <td>3.000000</td>\n",
       "      <td>1.000000</td>\n",
       "      <td>32.000000</td>\n",
       "      <td>0.500000</td>\n",
       "      <td>141.000000</td>\n",
       "      <td>4.000000</td>\n",
       "      <td>...</td>\n",
       "      <td>564.000000</td>\n",
       "      <td>1247.000000</td>\n",
       "      <td>2147.500000</td>\n",
       "      <td>12.000000</td>\n",
       "      <td>5.000000</td>\n",
       "      <td>11.000000</td>\n",
       "      <td>1.000000</td>\n",
       "      <td>1.000000</td>\n",
       "      <td>1.000000</td>\n",
       "      <td>1.500000</td>\n",
       "    </tr>\n",
       "    <tr>\n",
       "      <th>75%</th>\n",
       "      <td>1615.250000</td>\n",
       "      <td>1.0000</td>\n",
       "      <td>2.200000</td>\n",
       "      <td>1.000000</td>\n",
       "      <td>7.000000</td>\n",
       "      <td>1.000000</td>\n",
       "      <td>48.000000</td>\n",
       "      <td>0.800000</td>\n",
       "      <td>170.000000</td>\n",
       "      <td>7.000000</td>\n",
       "      <td>...</td>\n",
       "      <td>947.250000</td>\n",
       "      <td>1633.000000</td>\n",
       "      <td>3065.500000</td>\n",
       "      <td>16.000000</td>\n",
       "      <td>9.000000</td>\n",
       "      <td>16.000000</td>\n",
       "      <td>1.000000</td>\n",
       "      <td>1.000000</td>\n",
       "      <td>1.000000</td>\n",
       "      <td>2.250000</td>\n",
       "    </tr>\n",
       "    <tr>\n",
       "      <th>max</th>\n",
       "      <td>1998.000000</td>\n",
       "      <td>1.0000</td>\n",
       "      <td>3.000000</td>\n",
       "      <td>1.000000</td>\n",
       "      <td>19.000000</td>\n",
       "      <td>1.000000</td>\n",
       "      <td>64.000000</td>\n",
       "      <td>1.000000</td>\n",
       "      <td>200.000000</td>\n",
       "      <td>8.000000</td>\n",
       "      <td>...</td>\n",
       "      <td>1960.000000</td>\n",
       "      <td>1998.000000</td>\n",
       "      <td>3998.000000</td>\n",
       "      <td>19.000000</td>\n",
       "      <td>18.000000</td>\n",
       "      <td>20.000000</td>\n",
       "      <td>1.000000</td>\n",
       "      <td>1.000000</td>\n",
       "      <td>1.000000</td>\n",
       "      <td>3.000000</td>\n",
       "    </tr>\n",
       "  </tbody>\n",
       "</table>\n",
       "<p>8 rows × 21 columns</p>\n",
       "</div>"
      ],
      "text/plain": [
       "       battery_power       blue  clock_speed     dual_sim           fc  \\\n",
       "count    2000.000000  2000.0000  2000.000000  2000.000000  1995.000000   \n",
       "mean     1238.518500     0.4950     1.522250     0.509500     4.310276   \n",
       "std       439.418206     0.5001     0.816004     0.500035     4.335766   \n",
       "min       501.000000     0.0000     0.500000     0.000000     0.000000   \n",
       "25%       851.750000     0.0000     0.700000     0.000000     1.000000   \n",
       "50%      1226.000000     0.0000     1.500000     1.000000     3.000000   \n",
       "75%      1615.250000     1.0000     2.200000     1.000000     7.000000   \n",
       "max      1998.000000     1.0000     3.000000     1.000000    19.000000   \n",
       "\n",
       "            four_g   int_memory        m_dep    mobile_wt      n_cores  ...  \\\n",
       "count  1995.000000  1995.000000  1995.000000  1996.000000  1996.000000  ...   \n",
       "mean      0.521303    32.048120     0.502256   140.266533     4.518036  ...   \n",
       "std       0.499671    18.146476     0.288530    35.384676     2.288946  ...   \n",
       "min       0.000000     2.000000     0.100000    80.000000     1.000000  ...   \n",
       "25%       0.000000    16.000000     0.200000   109.000000     3.000000  ...   \n",
       "50%       1.000000    32.000000     0.500000   141.000000     4.000000  ...   \n",
       "75%       1.000000    48.000000     0.800000   170.000000     7.000000  ...   \n",
       "max       1.000000    64.000000     1.000000   200.000000     8.000000  ...   \n",
       "\n",
       "         px_height     px_width          ram         sc_h         sc_w  \\\n",
       "count  1996.000000  1998.000000  1998.000000  1999.000000  1999.000000   \n",
       "mean    644.651804  1251.287788  2124.262262    12.303652     5.766383   \n",
       "std     443.355443   432.352930  1085.273372     4.212373     4.357400   \n",
       "min       0.000000   500.000000   256.000000     5.000000     0.000000   \n",
       "25%     282.000000   874.250000  1206.500000     9.000000     2.000000   \n",
       "50%     564.000000  1247.000000  2147.500000    12.000000     5.000000   \n",
       "75%     947.250000  1633.000000  3065.500000    16.000000     9.000000   \n",
       "max    1960.000000  1998.000000  3998.000000    19.000000    18.000000   \n",
       "\n",
       "         talk_time      three_g  touch_screen         wifi  price_range  \n",
       "count  2000.000000  2000.000000   2000.000000  2000.000000  2000.000000  \n",
       "mean     11.011000     0.761500      0.503000     0.507000     1.500000  \n",
       "std       5.463955     0.426273      0.500116     0.500076     1.118314  \n",
       "min       2.000000     0.000000      0.000000     0.000000     0.000000  \n",
       "25%       6.000000     1.000000      0.000000     0.000000     0.750000  \n",
       "50%      11.000000     1.000000      1.000000     1.000000     1.500000  \n",
       "75%      16.000000     1.000000      1.000000     1.000000     2.250000  \n",
       "max      20.000000     1.000000      1.000000     1.000000     3.000000  \n",
       "\n",
       "[8 rows x 21 columns]"
      ]
     },
     "execution_count": 3,
     "metadata": {},
     "output_type": "execute_result"
    }
   ],
   "source": [
    "train.describe(include='all')"
   ]
  },
  {
   "cell_type": "markdown",
   "id": "200da27c-5ba7-4315-9e05-1911547a62c8",
   "metadata": {},
   "source": [
    "## Preparation of Training and Testing Data"
   ]
  },
  {
   "cell_type": "code",
   "execution_count": 4,
   "id": "747a51e0-09c5-4a95-9f36-64306be2e599",
   "metadata": {},
   "outputs": [
    {
     "data": {
      "text/plain": [
       "battery_power    0\n",
       "blue             0\n",
       "clock_speed      0\n",
       "dual_sim         0\n",
       "fc               5\n",
       "four_g           5\n",
       "int_memory       5\n",
       "m_dep            5\n",
       "mobile_wt        4\n",
       "n_cores          4\n",
       "pc               5\n",
       "px_height        4\n",
       "px_width         2\n",
       "ram              2\n",
       "sc_h             1\n",
       "sc_w             1\n",
       "talk_time        0\n",
       "three_g          0\n",
       "touch_screen     0\n",
       "wifi             0\n",
       "price_range      0\n",
       "dtype: int64"
      ]
     },
     "execution_count": 4,
     "metadata": {},
     "output_type": "execute_result"
    }
   ],
   "source": [
    "# This line calculates the total number of null values in each column of the 'train' DataFrame\n",
    "train.isnull().sum()"
   ]
  },
  {
   "cell_type": "code",
   "execution_count": 5,
   "id": "06ba3246-b92c-478e-a87a-6fa839c3eee8",
   "metadata": {},
   "outputs": [],
   "source": [
    "# Assigning the 'price_range' column to Y_train for target variable during training\n",
    "Y_train = train['price_range']\n",
    "\n",
    "# Creating X_train by dropping the 'price_range' column from the original 'train' DataFrame\n",
    "# This leaves us with all other columns which will be used as features for training\n",
    "X_train = train.drop('price_range', axis=1)\n",
    "\n",
    "# Reassigning the 'price_range' column to Y_test for target variable during testing/validation\n",
    "# Note: It seems there might be a mistake here since 'train' is used instead of a separate test dataset.\n",
    "# Typically, you would split your data into training and testing sets beforehand.\n",
    "Y_test = train['price_range']\n",
    "\n",
    "# Attempting to create X_test by dropping the 'price_range' column from the 'train' DataFrame again\n",
    "# As noted above, this should ideally be done using a separate test set to avoid data leakage.\n",
    "X_test = train.drop('price_range', axis=1)"
   ]
  },
  {
   "cell_type": "code",
   "execution_count": 6,
   "id": "61b59887-b56f-47ef-86db-91fda111ae07",
   "metadata": {},
   "outputs": [
    {
     "name": "stdout",
     "output_type": "stream",
     "text": [
      "trian_shape: (2000, 20)\n"
     ]
    }
   ],
   "source": [
    "print('trian_shape:',X_train.shape)"
   ]
  },
  {
   "cell_type": "markdown",
   "id": "4e7aaf84-0e24-43d2-85c6-1f1e9cc2f45f",
   "metadata": {},
   "source": [
    "## Preprocessing Data with Mean Imputatio"
   ]
  },
  {
   "cell_type": "code",
   "execution_count": 7,
   "id": "0263d308-3bd2-4fb0-8c7e-c9fa90d04969",
   "metadata": {},
   "outputs": [],
   "source": [
    "from sklearn.impute import SimpleImputer\n",
    "import numpy as np\n",
    "\n",
    "# Initializing a SimpleImputer object with strategy set to 'mean'\n",
    "# This means that missing values will be replaced with the mean of the available values in each feature/column\n",
    "mean_imputer = SimpleImputer(missing_values=np.nan, strategy='mean')\n",
    "\n",
    "# Applying mean imputation to the training dataset\n",
    "# fit_transform computes the mean for each feature and replaces NaN values with these computed means\n",
    "X_train_imputed = mean_imputer.fit_transform(X_train)\n",
    "\n",
    "# Reusing the same imputer instance to transform the test dataset\n",
    "# Since the imputer was already fitted on the training data, it can now be applied to the test data\n",
    "# This ensures consistency between the training and test sets after imputation\n",
    "X_test_imputed = mean_imputer.transform(X_test)\n"
   ]
  },
  {
   "cell_type": "markdown",
   "id": "e95a76a0-347b-40ec-ae97-e28a037e3065",
   "metadata": {},
   "source": [
    "### Normalizing Features with StandardScaler"
   ]
  },
  {
   "cell_type": "code",
   "execution_count": 8,
   "id": "895f8564-415d-4097-aa7e-5e53754ceca2",
   "metadata": {},
   "outputs": [],
   "source": [
    "# Initializing a StandardScaler object\n",
    "# StandardScaler standardizes features by removing the mean and scaling to unit variance\n",
    "scaler = StandardScaler()\n",
    "\n",
    "# Applying normalization to the training dataset\n",
    "# fit_transform calculates the mean and standard deviation for each feature and scales the data accordingly\n",
    "X_train_normalize = scaler.fit_transform(X_train_imputed)\n",
    "\n",
    "# Applying the same transformation to the test dataset\n",
    "# This ensures that the test data is scaled in the same way as the training data\n",
    "X_test_normalize = scaler.transform(X_test_imputed)"
   ]
  },
  {
   "cell_type": "code",
   "execution_count": 9,
   "id": "cf755c3d-5934-4000-826f-fa8162f5c541",
   "metadata": {},
   "outputs": [],
   "source": [
    "from sklearn.impute import SimpleImputer\n",
    "\n",
    "# Splitting the dataset into the Training set and Test set\n",
    "from sklearn.model_selection import train_test_split\n",
    "x_train, x_test, y_train, y_test = train_test_split(X_train_normalize, Y_train, test_size = 0.3, random_state = 40)"
   ]
  },
  {
   "cell_type": "code",
   "execution_count": 10,
   "id": "621d0c61-19a8-4eda-9a9e-7df38272dfb5",
   "metadata": {},
   "outputs": [],
   "source": [
    "train.drop_duplicates(inplace=True)"
   ]
  },
  {
   "cell_type": "markdown",
   "id": "2cab6661-d70c-446f-bd7d-fca4f859081d",
   "metadata": {},
   "source": [
    "## Training and Evaluating Machine Learning Models"
   ]
  },
  {
   "cell_type": "code",
   "execution_count": 11,
   "id": "22065733-bbea-4ab6-b4b4-d5dc12ae2dae",
   "metadata": {},
   "outputs": [],
   "source": [
    "classifiers = {\n",
    "    # Defining various classifiers with their default parameters\n",
    "    \"KNN\": KNeighborsClassifier(), \n",
    "    \"LR\": LogisticRegression(max_iter=1000), \n",
    "    \"DT\": DecisionTreeClassifier(),\n",
    "    \"RF\": RandomForestClassifier(),\n",
    "    \"SVM\": SVC(),\n",
    "    \"MLP\": MLPClassifier(max_iter=1000),\n",
    "}\n",
    "\n",
    "def ml_model(models, X_train, X_test, y_train, y_test):\n",
    "    # Initialize an empty dictionary to store model scores\n",
    "    model_scores = {}\n",
    "    \n",
    "    # Loop through each classifier defined in the classifiers dictionary\n",
    "    for name, model in classifiers.items():\n",
    "        # Fit the model on the training data\n",
    "        model.fit(X_train, y_train)\n",
    "        \n",
    "        # Evaluate the model on the test data and store the score\n",
    "        model_scores[name] = model.score(X_test, y_test)\n",
    "    \n",
    "    # Return the dictionary of model scores\n",
    "    return model_scores"
   ]
  },
  {
   "cell_type": "markdown",
   "id": "e84f4fb0-80d8-4ebe-a42a-05c5782730c6",
   "metadata": {},
   "source": [
    "### Evaluating Model Performance Across Multiple Classifiers"
   ]
  },
  {
   "cell_type": "code",
   "execution_count": 12,
   "id": "cda818b0-c73a-4673-a768-d1ddad97768e",
   "metadata": {},
   "outputs": [
    {
     "name": "stdout",
     "output_type": "stream",
     "text": [
      "{'KNN': 0.5, 'LR': 0.9533333333333334, 'DT': 0.8183333333333334, 'RF': 0.8683333333333333, 'SVM': 0.8683333333333333, 'MLP': 0.8966666666666666}\n"
     ]
    }
   ],
   "source": [
    "# Calling the ml_model function with the predefined classifiers and datasets\n",
    "model_scores = ml_model(models=classifiers, \n",
    "                         X_train=x_train,\n",
    "                        X_test=x_test,\n",
    "                        y_train=y_train,\n",
    "                        y_test=y_test)\n",
    "\n",
    "# Displaying the model scores\n",
    "print(model_scores)"
   ]
  },
  {
   "cell_type": "markdown",
   "id": "5d5d0c2f-e60e-45a5-a84a-a4c3c09737f2",
   "metadata": {},
   "source": [
    "### Hyperparameter Tuning with Grid Search for Logistic Regression"
   ]
  },
  {
   "cell_type": "code",
   "execution_count": 13,
   "id": "ca556009-9a24-450e-b674-6de45cc7e43c",
   "metadata": {},
   "outputs": [
    {
     "name": "stdout",
     "output_type": "stream",
     "text": [
      "Best hyperparameters: {'C': 50.0, 'penalty': 'l2', 'tol': 0.0001}\n"
     ]
    }
   ],
   "source": [
    "from sklearn.linear_model import LogisticRegression\n",
    "from sklearn.model_selection import GridSearchCV\n",
    "\n",
    "# Initializing Logistic Regression with 'lbfgs' solver\n",
    "lr = LogisticRegression(solver='lbfgs')  # Default solver is 'lbfgs'\n",
    "\n",
    "# Defining the parameter grid for tuning\n",
    "params = {\n",
    "    \"penalty\": [\"l2\"],  # Only 'l2' is supported by 'lbfgs'\n",
    "    \"tol\": [0.1, 0.01, 0.001, 0.0001,0.00001],  # Tolerance for stopping criteria\n",
    "    \"C\": [50.0, 40.0, 30.0, 20.0, 10.0, 1.0, 0.1, 0.01]  # Inverse of regularization strength\n",
    "}\n",
    "\n",
    "# Setting up GridSearchCV for hyperparameter tuning\n",
    "# cv=10 indicates that cross-validation is performed with 10 folds\n",
    "clf = GridSearchCV(lr, params, cv=10)\n",
    "\n",
    "# Fitting the model with the training data\n",
    "clf.fit(x_train, y_train)\n",
    "\n",
    "# Printing the best hyperparameters found by GridSearchCV\n",
    "print(\"Best hyperparameters:\", clf.best_params_)\n"
   ]
  },
  {
   "cell_type": "markdown",
   "id": "63d8cd77-20c2-46d8-a79c-db4a99d6df01",
   "metadata": {},
   "source": [
    "### Evaluating Model Predictions on Training Data"
   ]
  },
  {
   "cell_type": "code",
   "execution_count": 14,
   "id": "edf5deb4-114f-4c41-945d-945628927ce9",
   "metadata": {},
   "outputs": [
    {
     "name": "stdout",
     "output_type": "stream",
     "text": [
      "Train Accuracy: 0.9914285714285714\n"
     ]
    },
    {
     "data": {
      "image/png": "[encoded data removed]",
      "text/plain": [
       "<Figure size 640x480 with 2 Axes>"
      ]
     },
     "metadata": {},
     "output_type": "display_data"
    }
   ],
   "source": [
    "from sklearn.metrics import accuracy_score, confusion_matrix\n",
    "import seaborn as sns\n",
    "import matplotlib.pyplot as plt\n",
    "\n",
    "# Making predictions on the training data\n",
    "y_pred = clf.predict(x_train)\n",
    "\n",
    "# Calculating and printing the accuracy of the model on the training data\n",
    "print(f\"Train Accuracy: {accuracy_score(y_train, y_pred)}\")\n",
    "\n",
    "# Uncomment the following line to calculate and print the F1-score\n",
    "#print(f\"Train F1-Score: {f1_score(y_train, y_pred)}\")\n",
    "\n",
    "# Creating a heatmap of the confusion matrix to visualize the model's performance\n",
    "sns.heatmap(confusion_matrix(y_train, y_pred), fmt='.3g', annot=True, cmap='summer_r')\n",
    "plt.show()"
   ]
  },
  {
   "cell_type": "markdown",
   "id": "e083b402-3cf4-4e72-b2e5-4db1772461e0",
   "metadata": {},
   "source": [
    "###  Generating a Classification Report"
   ]
  },
  {
   "cell_type": "code",
   "execution_count": 15,
   "id": "faf4c61b-1b58-4a11-8ebf-48d6391ad884",
   "metadata": {},
   "outputs": [
    {
     "name": "stdout",
     "output_type": "stream",
     "text": [
      "              precision    recall  f1-score   support\n",
      "\n",
      "           0       1.00      1.00      1.00       337\n",
      "           1       0.99      0.99      0.99       350\n",
      "           2       0.99      0.99      0.99       361\n",
      "           3       0.99      0.99      0.99       352\n",
      "\n",
      "    accuracy                           0.99      1400\n",
      "   macro avg       0.99      0.99      0.99      1400\n",
      "weighted avg       0.99      0.99      0.99      1400\n",
      "\n"
     ]
    }
   ],
   "source": [
    "from sklearn.metrics import classification_report\n",
    "\n",
    "# Generating a classification report\n",
    "print(classification_report(y_train, y_pred))"
   ]
  },
  {
   "cell_type": "markdown",
   "id": "6539f572-303c-44e5-b87b-dad1e32ecf81",
   "metadata": {},
   "source": [
    "### Evaluating Model Predictions on Test Data"
   ]
  },
  {
   "cell_type": "code",
   "execution_count": 16,
   "id": "a29722bb-07d5-4846-9a90-0722b367308b",
   "metadata": {},
   "outputs": [
    {
     "name": "stdout",
     "output_type": "stream",
     "text": [
      "Test Accuracy: 0.9815\n"
     ]
    },
    {
     "data": {
      "image/png": "[encoded data removed]",
      "text/plain": [
       "<Figure size 640x480 with 2 Axes>"
      ]
     },
     "metadata": {},
     "output_type": "display_data"
    }
   ],
   "source": [
    "from sklearn.metrics import accuracy_score, confusion_matrix\n",
    "import seaborn as sns\n",
    "import matplotlib.pyplot as plt\n",
    "\n",
    "# Making predictions on the normalized test data\n",
    "y_pred = clf.predict(X_test_normalize)\n",
    "\n",
    "# Calculating and printing the accuracy of the model on the test data\n",
    "print(f\"Test Accuracy: {accuracy_score(Y_test, y_pred)}\")\n",
    "\n",
    "# Creating a heatmap of the confusion matrix to visualize the model's performance on the test data\n",
    "sns.heatmap(confusion_matrix(Y_test, y_pred), fmt='.3g', annot=True, cmap='summer_r')\n",
    "plt.show()\n"
   ]
  },
  {
   "cell_type": "markdown",
   "id": "fccfe243-db22-4c5d-a731-b39fa63699f2",
   "metadata": {},
   "source": [
    "### Saving Trained Model and Scaler for Future Use"
   ]
  },
  {
   "cell_type": "code",
   "execution_count": 17,
   "id": "e382cdf6-a471-46ed-a4a3-b0a125a767be",
   "metadata": {},
   "outputs": [],
   "source": [
    "# Specifying filenames for the model and scaler\n",
    "filename = 'finalized_model.pkl'\n",
    "filename_scaler = 'scaler_model.pkl'\n",
    "\n",
    "# Dumping the scaler object to file\n",
    "pickle.dump(scaler, open(filename_scaler, 'wb'))\n",
    "\n",
    "# Dumping the trained classifier to file\n",
    "pickle.dump(clf, open(filename, 'wb'))\n"
   ]
  },
  {
   "cell_type": "markdown",
   "id": "fd0b3898-215b-4316-9f9a-bf49250c9f2d",
   "metadata": {},
   "source": [
    "### Loading Saved Model and Scaler for Prediction"
   ]
  },
  {
   "cell_type": "code",
   "execution_count": 18,
   "id": "01d537c0-fe25-417a-b663-b2f46d31828c",
   "metadata": {},
   "outputs": [],
   "source": [
    "# Loading the trained classifier from file\n",
    "loaded_model = pickle.load(open(filename, 'rb'))\n",
    "\n",
    "# Loading the scaler object from file\n",
    "loaded_scaler = pickle.load(open(filename_scaler, 'rb'))"
   ]
  },
  {
   "cell_type": "markdown",
   "id": "d21e6cf6-b2da-41ac-9fe2-a66d83af555a",
   "metadata": {},
   "source": [
    "### Making Predictions with Loaded Model and Scaler"
   ]
  },
  {
   "cell_type": "code",
   "execution_count": 19,
   "id": "a4f841cc-a614-4cb5-9ce6-aa7401aee12a",
   "metadata": {},
   "outputs": [],
   "source": [
    "# Assuming sample is a list representing a single data point\n",
    "sample = [1021, 1, 0.5, 1, 0, 1, 53, 0.7, 136, 3, 6, 905, 1988, 2631, 17, 3, 7, 1, 1, 0]\n",
    "\n",
    "# Transforming the sample using the loaded scaler\n",
    "# This step ensures the sample is preprocessed in the same manner as the training data\n",
    "sample_normalize = loaded_scaler.transform([sample])\n",
    "\n",
    "# Making predictions on the transformed sample using the loaded model\n",
    "predictions = loaded_model.predict(sample_normalize)\n",
    "\n",
    "# predictions now contains the predicted class label for the sample\n"
   ]
  },
  {
   "cell_type": "markdown",
   "id": "2685fac4-66da-45c9-91ce-e8718a25dc5b",
   "metadata": {},
   "source": [
    "### predicted price for provided sample is"
   ]
  },
  {
   "cell_type": "code",
   "execution_count": 20,
   "id": "affc48f4-ae13-437d-a4f5-8ff1ea32d01b",
   "metadata": {},
   "outputs": [
    {
     "name": "stdout",
     "output_type": "stream",
     "text": [
      "The predicted price is 2.\n"
     ]
    }
   ],
   "source": [
    "print(f\"The predicted price is {predictions[0]}.\")"
   ]
  },
  {
   "cell_type": "code",
   "execution_count": null,
   "id": "69706ce1-ec7f-4e75-a554-1363fef3a125",
   "metadata": {},
   "outputs": [],
   "source": []
  },
  {
   "cell_type": "code",
   "execution_count": null,
   "id": "4c8a7c6b-8c40-45cd-abd5-9f759e33b4d1",
   "metadata": {},
   "outputs": [],
   "source": []
  }
 ],
 "metadata": {
  "kernelspec": {
   "display_name": "Python 3 (ipykernel)",
   "language": "python",
   "name": "python3"
  },
  "language_info": {
   "codemirror_mode": {
    "name": "ipython",
    "version": 3
   },
   "file_extension": ".py",
   "mimetype": "text/x-python",
   "name": "python",
   "nbconvert_exporter": "python",
   "pygments_lexer": "ipython3",
   "version": "3.12.4"
  }
 },
 "nbformat": 4,
 "nbformat_minor": 5
}
